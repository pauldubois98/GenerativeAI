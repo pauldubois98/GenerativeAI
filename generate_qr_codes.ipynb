{
 "cells": [
  {
   "cell_type": "code",
   "execution_count": 1,
   "metadata": {},
   "outputs": [],
   "source": [
    "import qrcode"
   ]
  },
  {
   "cell_type": "code",
   "execution_count": null,
   "metadata": {},
   "outputs": [],
   "source": [
    "QRcodes = {\n",
    "    \"machine1code\": \"https://pauldubois98.github.io/GenerativeAI/word_generator1.html\",\n",
    "    \"machine2code\": \"https://pauldubois98.github.io/GenerativeAI/word_generator2.html\",\n",
    "    \"machine3code\": \"https://pauldubois98.github.io/GenerativeAI/word_generator3.html\",\n",
    "    \"machine1code-fr\": \"https://pauldubois98.github.io/GenerativeAI/word_generator1.html?language=fr\",\n",
    "    \"machine2code-fr\": \"https://pauldubois98.github.io/GenerativeAI/word_generator2.html?language=fr\",\n",
    "    \"machine3code-fr\": \"https://pauldubois98.github.io/GenerativeAI/word_generator3.html?language=fr\",\n",
    "}"
   ]
  },
  {
   "cell_type": "code",
   "execution_count": 10,
   "metadata": {},
   "outputs": [],
   "source": [
    "for key, value in QRcodes.items():\n",
    "    qr = qrcode.QRCode(box_size=50,border=0)\n",
    "    qr.add_data(value)\n",
    "    qr.make(fit=True)\n",
    "    img = qr.make_image()\n",
    "    img.save(\"images/\" + key + \".png\")"
   ]
  },
  {
   "cell_type": "code",
   "execution_count": null,
   "metadata": {},
   "outputs": [],
   "source": [
    "# for key, value in QRcodes.items():\n",
    "#     qr = qrcode.QRCode(image_factory=qrcode.image.svg.SvgPathImage, border=0)\n",
    "#     qr.add_data(value)\n",
    "#     qr.make(fit=True)\n",
    "#     img = qr.make_image()\n",
    "#     img.save(\"images/\" + key + \".svg\")"
   ]
  }
 ],
 "metadata": {
  "kernelspec": {
   "display_name": "Python 3",
   "language": "python",
   "name": "python3"
  },
  "language_info": {
   "codemirror_mode": {
    "name": "ipython",
    "version": 3
   },
   "file_extension": ".py",
   "mimetype": "text/x-python",
   "name": "python",
   "nbconvert_exporter": "python",
   "pygments_lexer": "ipython3",
   "version": "3.11.4"
  }
 },
 "nbformat": 4,
 "nbformat_minor": 2
}
