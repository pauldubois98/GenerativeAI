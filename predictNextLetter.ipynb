{
 "cells": [
  {
   "cell_type": "code",
   "execution_count": 1,
   "metadata": {},
   "outputs": [],
   "source": [
    "import torch\n",
    "import random\n",
    "import unidecode\n",
    "import numpy as np\n",
    "import matplotlib as mpl\n",
    "import matplotlib.pyplot as plt\n",
    "import matplotlib.ticker as mticker\n"
   ]
  },
  {
   "cell_type": "code",
   "execution_count": 3,
   "metadata": {},
   "outputs": [
    {
     "data": {
      "text/plain": [
       "'heresie'"
      ]
     },
     "execution_count": 3,
     "metadata": {},
     "output_type": "execute_result"
    }
   ],
   "source": [
    "ALPHABET = 'abcdefghijklmnopqrstuvwxyz-'\n",
    "\n",
    "def normalize(s):\n",
    "    global ALPHABET\n",
    "    s = unidecode.unidecode(s)\n",
    "    s = s.lower()\n",
    "    s = ''.join(c for c in s if c in ALPHABET)\n",
    "    return s\n",
    "\n",
    "normalize('HéRésIe!')"
   ]
  },
  {
   "cell_type": "code",
   "execution_count": 4,
   "metadata": {},
   "outputs": [
    {
     "data": {
      "text/plain": [
       "11041"
      ]
     },
     "execution_count": 4,
     "metadata": {},
     "output_type": "execute_result"
    }
   ],
   "source": [
    "def extract_from_txt(file_name_in, file_name_out):\n",
    "    \"\"\"extract unique words from a text file and write them to another file (one per line); also normalize them\"\"\"\n",
    "    words_list = []\n",
    "    with open(file_name_in, 'r', encoding='UTF8') as f:\n",
    "        for line in f.readlines():\n",
    "            for word in line.split():\n",
    "                word = normalize(word)\n",
    "                if word not in words_list:\n",
    "                    words_list.append(word)\n",
    "    words_list.remove('')\n",
    "    words_list.remove('-')\n",
    "    words_list.sort()\n",
    "    with open(file_name_out, 'w', encoding='UTF8') as f:\n",
    "        for word in words_list:\n",
    "            f.write(word + '\\n')\n",
    "    return len(words_list)\n",
    "\n",
    "# BOOK_FILE = 'twilight.txt'\n",
    "BOOK_FILE = 'a_tale_of_two_cities.txt'\n",
    "WORDS_FILE = 'words.txt'\n",
    "extract_from_txt(BOOK_FILE, WORDS_FILE)\n"
   ]
  },
  {
   "cell_type": "code",
   "execution_count": 6,
   "metadata": {},
   "outputs": [
    {
     "data": {
      "text/plain": [
       "22451"
      ]
     },
     "execution_count": 6,
     "metadata": {},
     "output_type": "execute_result"
    }
   ],
   "source": [
    "def normalize_txt(file_name_in, file_name_out):\n",
    "    \"\"\"normalize a text file and write it to another file\"\"\"\n",
    "    c = 0\n",
    "    with open(file_name_in, 'r', encoding='UTF8') as f:\n",
    "        with open(file_name_out, 'w', encoding='UTF8') as g:\n",
    "            prev = ''\n",
    "            for line in f.readlines():\n",
    "                if '.' in line or ' ' in line or \"'\" in line or line == prev or line.count('-')>1:\n",
    "                    pass\n",
    "                else:\n",
    "                    g.write(normalize(line))\n",
    "                    prev = line\n",
    "                    c += 1\n",
    "    return c\n",
    "\n",
    "RAW_FILE = 'mots.txt'\n",
    "NORM_FILE = 'mots_norm.txt'\n",
    "normalize_txt(RAW_FILE, NORM_FILE)\n"
   ]
  }
 ],
 "metadata": {
  "kernelspec": {
   "display_name": "Python 3",
   "language": "python",
   "name": "python3"
  },
  "language_info": {
   "codemirror_mode": {
    "name": "ipython",
    "version": 3
   },
   "file_extension": ".py",
   "mimetype": "text/x-python",
   "name": "python",
   "nbconvert_exporter": "python",
   "pygments_lexer": "ipython3",
   "version": "3.11.4"
  }
 },
 "nbformat": 4,
 "nbformat_minor": 2
}
