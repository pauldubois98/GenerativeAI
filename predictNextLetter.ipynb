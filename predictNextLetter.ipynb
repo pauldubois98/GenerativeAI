{
 "cells": [
  {
   "cell_type": "code",
   "execution_count": 1,
   "metadata": {},
   "outputs": [],
   "source": [
    "import torch\n",
    "import random\n",
    "import unidecode\n",
    "import numpy as np\n",
    "import matplotlib as mpl\n",
    "import matplotlib.pyplot as plt\n",
    "import matplotlib.ticker as mticker\n"
   ]
  },
  {
   "cell_type": "code",
   "execution_count": 2,
   "metadata": {},
   "outputs": [
    {
     "data": {
      "text/plain": [
       "'heresie'"
      ]
     },
     "execution_count": 2,
     "metadata": {},
     "output_type": "execute_result"
    }
   ],
   "source": [
    "ALPHABET = 'abcdefghijklmnopqrstuvwxyz-^*'\n",
    "N = len(ALPHABET)\n",
    "\n",
    "def normalize(s):\n",
    "    global ALPHABET\n",
    "    s = unidecode.unidecode(s)\n",
    "    s = s.lower()\n",
    "    s = ''.join(c for c in s if c in ALPHABET)\n",
    "    return s\n",
    "\n",
    "normalize('HéRésIe!')"
   ]
  },
  {
   "cell_type": "code",
   "execution_count": 3,
   "metadata": {},
   "outputs": [
    {
     "data": {
      "text/plain": [
       "11045"
      ]
     },
     "execution_count": 3,
     "metadata": {},
     "output_type": "execute_result"
    }
   ],
   "source": [
    "def extract_from_txt(file_name_in, file_name_out):\n",
    "    \"\"\"extract unique words from a text file and write them to another file (one per line); also normalize them\"\"\"\n",
    "    words_list = []\n",
    "    with open(file_name_in, 'r', encoding='UTF8') as f:\n",
    "        for line in f.readlines():\n",
    "            for word in line.split():\n",
    "                word = normalize(word)\n",
    "                if word not in words_list:\n",
    "                    words_list.append(word)\n",
    "    words_list.remove('')\n",
    "    words_list.remove('-')\n",
    "    words_list.sort()\n",
    "    with open(file_name_out, 'w', encoding='UTF8') as f:\n",
    "        for word in words_list:\n",
    "            f.write(word + '\\n')\n",
    "    return len(words_list)\n",
    "\n",
    "# BOOK_FILE = 'twilight.txt'\n",
    "BOOK_FILE = 'a_tale_of_two_cities.txt'\n",
    "WORDS_FILE = 'words_raw.txt'\n",
    "extract_from_txt(BOOK_FILE, WORDS_FILE)\n"
   ]
  },
  {
   "cell_type": "code",
   "execution_count": 4,
   "metadata": {},
   "outputs": [
    {
     "data": {
      "text/plain": [
       "(22451, 10331)"
      ]
     },
     "execution_count": 4,
     "metadata": {},
     "output_type": "execute_result"
    }
   ],
   "source": [
    "def normalize_txt(file_name_in, file_name_out):\n",
    "    \"\"\"normalize a text file and write it to another file\"\"\"\n",
    "    c = 0\n",
    "    with open(file_name_in, 'r', encoding='UTF8') as f:\n",
    "        with open(file_name_out, 'w', encoding='UTF8') as g:\n",
    "            prev = ''\n",
    "            for line in f.readlines():\n",
    "                if '.' in line or ' ' in line or \"'\" in line or line == prev or line.count('-')>1:\n",
    "                    pass\n",
    "                else:\n",
    "                    g.write(normalize(line)+'\\n')\n",
    "                    prev = line\n",
    "                    c += 1\n",
    "    return c\n",
    "\n",
    "normalize_txt('mots_brut.txt', 'mots.txt'), normalize_txt('words_raw.txt', 'words.txt')\n"
   ]
  },
  {
   "cell_type": "code",
   "execution_count": 5,
   "metadata": {},
   "outputs": [],
   "source": [
    "def txt_to_js(file_name):\n",
    "    \"\"\"put list of word from a txt file in a js variable, loadable from a file\"\"\"\n",
    "    with open(file_name+'.txt', 'r') as f:\n",
    "        with open(file_name+'.js', 'w') as g:\n",
    "            g.write(\"const ALPHABET = 'abcdefghijklmnopqrstuvwxyz-*';\\n\")\n",
    "            g.write(\"const WORDS_LIST = [\\n\")\n",
    "            for line in f.readlines():\n",
    "                if line != '\\n':\n",
    "                    g.write('\\t\\'^' + line[:-1] + '*\\',\\n')\n",
    "            g.write('];\\n')\n",
    "\n",
    "txt_to_js('mots')\n",
    "txt_to_js('words')"
   ]
  },
  {
   "cell_type": "code",
   "execution_count": 6,
   "metadata": {},
   "outputs": [],
   "source": [
    "DICTIONARY_FILE = 'words.txt'\n",
    "WORDS_LIST = []\n",
    "with open('words.txt', 'r', encoding='UTF8') as f:\n",
    "    for line in f.readlines():\n",
    "        WORDS_LIST.append('^'+line.strip()+'*')"
   ]
  },
  {
   "cell_type": "code",
   "execution_count": 7,
   "metadata": {},
   "outputs": [],
   "source": [
    "letters_usage = np.zeros(N)\n",
    "words_lengths = np.zeros(30)\n",
    "\n",
    "for word in WORDS_LIST:\n",
    "    for ch in word:\n",
    "        if ch != '^' and ch != '*':\n",
    "            letters_usage[ALPHABET.index(ch)] += 1\n",
    "    words_lengths[len(word)] += 1\n"
   ]
  },
  {
   "cell_type": "code",
   "execution_count": 8,
   "metadata": {},
   "outputs": [
    {
     "data": {
      "image/png": "[encoded data removed]",
      "text/plain": [
       "<Figure size 640x480 with 1 Axes>"
      ]
     },
     "metadata": {},
     "output_type": "display_data"
    }
   ],
   "source": [
    "plt.bar(range(N), 100*letters_usage/sum(letters_usage))\n",
    "plt.xticks(range(N), ALPHABET)\n",
    "plt.xlabel('Letter')\n",
    "plt.ylabel('Frequency (%)')\n",
    "plt.title('Frequency of letters in the dictionary')\n",
    "plt.show()\n"
   ]
  },
  {
   "cell_type": "code",
   "execution_count": 9,
   "metadata": {},
   "outputs": [
    {
     "data": {
      "image/png": "[encoded data removed]",
      "text/plain": [
       "<Figure size 640x480 with 1 Axes>"
      ]
     },
     "metadata": {},
     "output_type": "display_data"
    }
   ],
   "source": [
    "plt.bar(range(30), 100*words_lengths/sum(words_lengths))\n",
    "plt.xlabel('Word length')\n",
    "plt.ylabel('Frequency (%)')\n",
    "plt.title('Frequency of word lengths in the dictionary')\n",
    "plt.show()\n"
   ]
  },
  {
   "cell_type": "code",
   "execution_count": 10,
   "metadata": {},
   "outputs": [
    {
     "data": {
      "text/plain": [
       "'abcdefghijklmnopqrstuvwxyz-^*'"
      ]
     },
     "execution_count": 10,
     "metadata": {},
     "output_type": "execute_result"
    }
   ],
   "source": [
    "ALPHABET"
   ]
  },
  {
   "cell_type": "code",
   "execution_count": 11,
   "metadata": {},
   "outputs": [],
   "source": [
    "max_len = 6\n",
    "nextS = [np.zeros([N]*k) for k in range(1,max_len)]\n",
    "\n",
    "for word in WORDS_LIST:\n",
    "    l = [ALPHABET.index(ch) for ch in word]\n",
    "    for k in range(1,max_len):\n",
    "        for i in range(len(l)-k+1):\n",
    "            nextS[k-1][tuple(l[i:i+k])] += 1\n"
   ]
  }
 ],
 "metadata": {
  "kernelspec": {
   "display_name": "Python 3",
   "language": "python",
   "name": "python3"
  },
  "language_info": {
   "codemirror_mode": {
    "name": "ipython",
    "version": 3
   },
   "file_extension": ".py",
   "mimetype": "text/x-python",
   "name": "python",
   "nbconvert_exporter": "python",
   "pygments_lexer": "ipython3",
   "version": "3.11.4"
  }
 },
 "nbformat": 4,
 "nbformat_minor": 2
}
