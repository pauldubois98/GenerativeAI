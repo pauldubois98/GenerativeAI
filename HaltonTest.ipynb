{
 "cells": [
  {
   "cell_type": "code",
   "execution_count": 2,
   "metadata": {},
   "outputs": [],
   "source": [
    "import numpy as np\n",
    "import matplotlib.pyplot as plt\n",
    "import itertools"
   ]
  },
  {
   "cell_type": "code",
   "execution_count": 3,
   "metadata": {},
   "outputs": [
    {
     "data": {
      "text/plain": [
       "array([0.33333333, 0.66666667, 0.11111111, 0.44444444, 0.77777778,\n",
       "       0.22222222, 0.55555556, 0.88888889, 0.03703704, 0.37037037])"
      ]
     },
     "execution_count": 3,
     "metadata": {},
     "output_type": "execute_result"
    }
   ],
   "source": [
    "def halton_sequence(b,N):\n",
    "    n, d = 0, 1\n",
    "    h = np.zeros(N)\n",
    "    i = 0\n",
    "    while True:\n",
    "        x = d - n\n",
    "        if x == 1:\n",
    "            n = 1\n",
    "            d *= b\n",
    "        else:\n",
    "            y = d // b\n",
    "            while x <= y:\n",
    "                y //= b\n",
    "            n = (b + 1) * y - x\n",
    "        h[i] = n / d\n",
    "        i += 1\n",
    "        if i == N:\n",
    "            break\n",
    "    return h\n",
    "\n",
    "halton_sequence(3,10)"
   ]
  }
 ],
 "metadata": {
  "kernelspec": {
   "display_name": "Python 3",
   "language": "python",
   "name": "python3"
  },
  "language_info": {
   "codemirror_mode": {
    "name": "ipython",
    "version": 3
   },
   "file_extension": ".py",
   "mimetype": "text/x-python",
   "name": "python",
   "nbconvert_exporter": "python",
   "pygments_lexer": "ipython3",
   "version": "3.11.4"
  }
 },
 "nbformat": 4,
 "nbformat_minor": 2
}
